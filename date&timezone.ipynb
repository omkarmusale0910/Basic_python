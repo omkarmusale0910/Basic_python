{
 "cells": [
  {
   "cell_type": "code",
   "execution_count": 1,
   "id": "f36a0013",
   "metadata": {},
   "outputs": [],
   "source": [
    "import pytz"
   ]
  },
  {
   "cell_type": "code",
   "execution_count": 2,
   "id": "d2e8a37a",
   "metadata": {},
   "outputs": [],
   "source": [
    "from datetime import datetime "
   ]
  },
  {
   "cell_type": "code",
   "execution_count": 4,
   "id": "ca4a7140",
   "metadata": {},
   "outputs": [
    {
     "name": "stdout",
     "output_type": "stream",
     "text": [
      "2023-02-16 12:49:27.830900\n"
     ]
    }
   ],
   "source": [
    "today=datetime.now()\n",
    "print(today)"
   ]
  },
  {
   "cell_type": "code",
   "execution_count": 5,
   "id": "4be57b8a",
   "metadata": {},
   "outputs": [
    {
     "name": "stdout",
     "output_type": "stream",
     "text": [
      "2023-02-16 07:20:33.432441+00:00\n"
     ]
    }
   ],
   "source": [
    "today_utc=datetime.now(pytz.timezone('UTC'))\n",
    "print(today_utc)"
   ]
  },
  {
   "cell_type": "code",
   "execution_count": 6,
   "id": "78018ba1",
   "metadata": {},
   "outputs": [
    {
     "name": "stdout",
     "output_type": "stream",
     "text": [
      "2023-02-16 12:56:22.642585+05:30\n"
     ]
    }
   ],
   "source": [
    "today_utc=datetime.now(pytz.timezone('Asia/Calcutta'))\n",
    "today_utc\n",
    "print(today_utc)"
   ]
  },
  {
   "cell_type": "code",
   "execution_count": 7,
   "id": "daf556bb",
   "metadata": {},
   "outputs": [
    {
     "name": "stdout",
     "output_type": "stream",
     "text": [
      "2023-02-16 12:58:30.501588+05:30\n"
     ]
    }
   ],
   "source": [
    "today_utc=datetime.now(pytz.timezone('Asia/Kolkata'))\n",
    "today_utc\n",
    "print(today_utc)"
   ]
  },
  {
   "cell_type": "code",
   "execution_count": 8,
   "id": "94e53e0f",
   "metadata": {},
   "outputs": [
    {
     "name": "stdout",
     "output_type": "stream",
     "text": [
      "2023-02-16 07:28:51.896500+00:00\n"
     ]
    }
   ],
   "source": [
    "today_utc=datetime.now(pytz.timezone('UTC'))\n",
    "print(today_utc)"
   ]
  },
  {
   "cell_type": "code",
   "execution_count": 9,
   "id": "a55ff7ea",
   "metadata": {},
   "outputs": [
    {
     "name": "stdout",
     "output_type": "stream",
     "text": [
      "2023-02-16 13:00:48.039696\n"
     ]
    }
   ],
   "source": [
    "print(datetime.now())"
   ]
  },
  {
   "cell_type": "code",
   "execution_count": 10,
   "id": "74d33b3e",
   "metadata": {},
   "outputs": [
    {
     "data": {
      "text/plain": [
       "330"
      ]
     },
     "execution_count": 10,
     "metadata": {},
     "output_type": "execute_result"
    }
   ],
   "source": [
    "5*60+30\n"
   ]
  },
  {
   "cell_type": "code",
   "execution_count": null,
   "id": "1a1177e9",
   "metadata": {},
   "outputs": [],
   "source": []
  }
 ],
 "metadata": {
  "kernelspec": {
   "display_name": "Python 3 (ipykernel)",
   "language": "python",
   "name": "python3"
  },
  "language_info": {
   "codemirror_mode": {
    "name": "ipython",
    "version": 3
   },
   "file_extension": ".py",
   "mimetype": "text/x-python",
   "name": "python",
   "nbconvert_exporter": "python",
   "pygments_lexer": "ipython3",
   "version": "3.9.13"
  }
 },
 "nbformat": 4,
 "nbformat_minor": 5
}
